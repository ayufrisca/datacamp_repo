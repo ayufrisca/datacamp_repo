{
  "cells": [
    {
      "cell_type": "markdown",
      "metadata": {
        "id": "view-in-github",
        "colab_type": "text"
      },
      "source": [
        "<a href=\"https://colab.research.google.com/github/ayufrisca/datacamp_repo/blob/master/CSS%20Locators%2C%20Chaining%2C%20and%20Responses.ipynb\" target=\"_parent\"><img src=\"https://colab.research.google.com/assets/colab-badge.svg\" alt=\"Open In Colab\"/></a>"
      ]
    },
    {
      "cell_type": "code",
      "source": [
        "from scrapy import Selector"
      ],
      "metadata": {
        "id": "KW1Qh_xI3jp-",
        "outputId": "22344920-88c0-4868-89e6-39a2791a4e63",
        "colab": {
          "base_uri": "https://localhost:8080/",
          "height": 305
        }
      },
      "execution_count": 13,
      "outputs": [
        {
          "output_type": "error",
          "ename": "ModuleNotFoundError",
          "evalue": "ignored",
          "traceback": [
            "\u001b[0;31m---------------------------------------------------------------------------\u001b[0m",
            "\u001b[0;31mModuleNotFoundError\u001b[0m                       Traceback (most recent call last)",
            "\u001b[0;32m<ipython-input-13-93adcff8032c>\u001b[0m in \u001b[0;36m<cell line: 1>\u001b[0;34m()\u001b[0m\n\u001b[0;32m----> 1\u001b[0;31m \u001b[0;32mfrom\u001b[0m \u001b[0mscrapy\u001b[0m \u001b[0;32mimport\u001b[0m \u001b[0mSelector\u001b[0m\u001b[0;34m\u001b[0m\u001b[0;34m\u001b[0m\u001b[0m\n\u001b[0m",
            "\u001b[0;31mModuleNotFoundError\u001b[0m: No module named 'scrapy'",
            "",
            "\u001b[0;31m---------------------------------------------------------------------------\u001b[0;32m\nNOTE: If your import is failing due to a missing package, you can\nmanually install dependencies using either !pip or !apt.\n\nTo view examples of installing some common dependencies, click the\n\"Open Examples\" button below.\n\u001b[0;31m---------------------------------------------------------------------------\u001b[0m\n"
          ],
          "errorDetails": {
            "actions": [
              {
                "action": "open_url",
                "actionText": "Open Examples",
                "url": "/notebooks/snippets/importing_libraries.ipynb"
              }
            ]
          }
        }
      ]
    },
    {
      "cell_type": "code",
      "source": [
        "# Create the XPath string equivalent to the CSS Locator\n",
        "xpath = '/html/body/span[1]//a'\n",
        "\n",
        "# Create the CSS Locator string equivalent to the XPath\n",
        "css_locator = 'html > body > span:nth-of-type(1) a'\n",
        "\n",
        "# Create the XPath string equivalent to the CSS Locator\n",
        "xpath = '//div[@id=\"uid\"]/span//h4'\n",
        "\n",
        "# Create the CSS Locator string equivalent to the XPath\n",
        "css_locator = 'div#uid > span h4'"
      ],
      "metadata": {
        "id": "soj35eeN3nTC"
      },
      "execution_count": 11,
      "outputs": []
    },
    {
      "cell_type": "code",
      "source": [
        "def how_many_elements( css ):\n",
        "    sel = Selector( text = data )\n",
        "    print( len(sel.css( css )) )"
      ],
      "metadata": {
        "id": "rtaTIE7f1wpg"
      },
      "execution_count": 6,
      "outputs": []
    },
    {
      "cell_type": "code",
      "source": [
        "with open('./dataset/all.html', 'r') as file:\n",
        "    data = file.read().replace('\\n', '')"
      ],
      "metadata": {
        "id": "L5lwgSOW12dl",
        "outputId": "5acfc299-e696-41d4-e4e0-5615b2c7c72c",
        "colab": {
          "base_uri": "https://localhost:8080/",
          "height": 183
        }
      },
      "execution_count": 12,
      "outputs": [
        {
          "output_type": "error",
          "ename": "FileNotFoundError",
          "evalue": "ignored",
          "traceback": [
            "\u001b[0;31m---------------------------------------------------------------------------\u001b[0m",
            "\u001b[0;31mFileNotFoundError\u001b[0m                         Traceback (most recent call last)",
            "\u001b[0;32m<ipython-input-12-3fb1e6c643b7>\u001b[0m in \u001b[0;36m<cell line: 1>\u001b[0;34m()\u001b[0m\n\u001b[0;32m----> 1\u001b[0;31m \u001b[0;32mwith\u001b[0m \u001b[0mopen\u001b[0m\u001b[0;34m(\u001b[0m\u001b[0;34m'./dataset/all.html'\u001b[0m\u001b[0;34m,\u001b[0m \u001b[0;34m'r'\u001b[0m\u001b[0;34m)\u001b[0m \u001b[0;32mas\u001b[0m \u001b[0mfile\u001b[0m\u001b[0;34m:\u001b[0m\u001b[0;34m\u001b[0m\u001b[0;34m\u001b[0m\u001b[0m\n\u001b[0m\u001b[1;32m      2\u001b[0m     \u001b[0mdata\u001b[0m \u001b[0;34m=\u001b[0m \u001b[0mfile\u001b[0m\u001b[0;34m.\u001b[0m\u001b[0mread\u001b[0m\u001b[0;34m(\u001b[0m\u001b[0;34m)\u001b[0m\u001b[0;34m.\u001b[0m\u001b[0mreplace\u001b[0m\u001b[0;34m(\u001b[0m\u001b[0;34m'\\n'\u001b[0m\u001b[0;34m,\u001b[0m \u001b[0;34m''\u001b[0m\u001b[0;34m)\u001b[0m\u001b[0;34m\u001b[0m\u001b[0;34m\u001b[0m\u001b[0m\n",
            "\u001b[0;31mFileNotFoundError\u001b[0m: [Errno 2] No such file or directory: './dataset/all.html'"
          ]
        }
      ]
    },
    {
      "cell_type": "code",
      "source": [
        "# Create a selector from the html (of a secret website)\n",
        "sel = Selector(text=data)\n",
        "\n",
        "# Fill in the blank\n",
        "css_locator = ' div.course-block > a'\n",
        "\n",
        "# Print the number of selected elements\n",
        "how_many_elements(css_locator)"
      ],
      "metadata": {
        "id": "UhegQ-up1519",
        "outputId": "160e20dc-45bf-4e70-ec2e-e6b15ab7f71f",
        "colab": {
          "base_uri": "https://localhost:8080/",
          "height": 235
        }
      },
      "execution_count": 8,
      "outputs": [
        {
          "output_type": "error",
          "ename": "NameError",
          "evalue": "ignored",
          "traceback": [
            "\u001b[0;31m---------------------------------------------------------------------------\u001b[0m",
            "\u001b[0;31mNameError\u001b[0m                                 Traceback (most recent call last)",
            "\u001b[0;32m<ipython-input-8-f71e4174e99c>\u001b[0m in \u001b[0;36m<cell line: 2>\u001b[0;34m()\u001b[0m\n\u001b[1;32m      1\u001b[0m \u001b[0;31m# Create a selector from the html (of a secret website)\u001b[0m\u001b[0;34m\u001b[0m\u001b[0;34m\u001b[0m\u001b[0m\n\u001b[0;32m----> 2\u001b[0;31m \u001b[0msel\u001b[0m \u001b[0;34m=\u001b[0m \u001b[0mSelector\u001b[0m\u001b[0;34m(\u001b[0m\u001b[0mtext\u001b[0m\u001b[0;34m=\u001b[0m\u001b[0mdata\u001b[0m\u001b[0;34m)\u001b[0m\u001b[0;34m\u001b[0m\u001b[0;34m\u001b[0m\u001b[0m\n\u001b[0m\u001b[1;32m      3\u001b[0m \u001b[0;34m\u001b[0m\u001b[0m\n\u001b[1;32m      4\u001b[0m \u001b[0;31m# Fill in the blank\u001b[0m\u001b[0;34m\u001b[0m\u001b[0;34m\u001b[0m\u001b[0m\n\u001b[1;32m      5\u001b[0m \u001b[0mcss_locator\u001b[0m \u001b[0;34m=\u001b[0m \u001b[0;34m' div.course-block > a'\u001b[0m\u001b[0;34m\u001b[0m\u001b[0;34m\u001b[0m\u001b[0m\n",
            "\u001b[0;31mNameError\u001b[0m: name 'Selector' is not defined"
          ]
        }
      ]
    },
    {
      "cell_type": "code",
      "source": [
        "# Create the CSS Locator to all children of the element whose id is uid\n",
        "css_locator = '#uid > *'\n",
        "\n",
        "# Print the number of selected elements\n",
        "how_many_elements(css_locator)"
      ],
      "metadata": {
        "id": "pSrAT39M2zAg"
      },
      "execution_count": null,
      "outputs": []
    },
    {
      "cell_type": "code",
      "source": [
        "# Select all hyperlinks of div elements belonging to class \"course-block\"\n",
        "course_as = sel.css('div.course-block > a')\n",
        "\n",
        "# Selecting all href attributes chaining with css\n",
        "hrefs_from_css = course_as.css('::attr(href)')\n",
        "\n",
        "# Selecting all href attributes chaining with xpath\n",
        "hrefs_from_xpath = course_as.xpath('./@href')"
      ],
      "metadata": {
        "id": "um152OrR230L"
      },
      "execution_count": null,
      "outputs": []
    },
    {
      "cell_type": "code",
      "source": [
        "def our_xpath( xpath ):\n",
        "    xextr = sel.xpath( xpath ).extract()\n",
        "    return xextr\n",
        "\n",
        "def our_css( css ):\n",
        "    cextr = sel.css( css ).extract()\n",
        "    return cextr\n",
        "\n",
        "def print_results( xpath, css_locator ):\n",
        "    print( \"Your XPath extracts to following:\")\n",
        "    print( our_xpath(xpath) )\n",
        "    print(\"_________________\\n\")\n",
        "    print( \"Your CSS Locator extracts the following:\")\n",
        "    print( our_css(css_locator) )\n",
        "    return None"
      ],
      "metadata": {
        "id": "wbHNOGKG27gC"
      },
      "execution_count": null,
      "outputs": []
    },
    {
      "cell_type": "code",
      "source": [
        "with open('./dataset/text_extract.html', 'r') as file:\n",
        "    html = file.read().replace('\\n', '')\n",
        "\n",
        "sel = Selector(text=html)\n",
        "\n",
        "# Create an XPath string to the desired text.\n",
        "xpath = '//p[@id=\"p3\"]/text()'\n",
        "\n",
        "# Create a CSS Locator string to the desired text\n",
        "css_locator = 'p#p3::text'\n",
        "\n",
        "# Print the text from our selection\n",
        "print_results(xpath, css_locator)"
      ],
      "metadata": {
        "id": "qIaNjo052_FY"
      },
      "execution_count": null,
      "outputs": []
    },
    {
      "cell_type": "code",
      "source": [
        "# Create an XPath string to the desired text.\n",
        "xpath = '//p[@id=\"p3\"]//text()'\n",
        "\n",
        "# Create an CSS Locator string to the desired text\n",
        "css_locator = 'p#p3 ::text'\n",
        "\n",
        "# Print the text from our selections\n",
        "print_results(xpath, css_locator)"
      ],
      "metadata": {
        "id": "mGS1lo4Z3Dx5"
      },
      "execution_count": null,
      "outputs": []
    },
    {
      "cell_type": "code",
      "source": [
        "def print_url_title( url, title ):\n",
        "    print( \"Here is what you found:\" )\n",
        "    print( \"\\t-URL: %s\" % url )\n",
        "    print( \"\\t-Title: %s\" % title )"
      ],
      "metadata": {
        "id": "wR5Q4Dpm3H4p"
      },
      "execution_count": null,
      "outputs": []
    },
    {
      "cell_type": "code",
      "source": [
        "from scrapy.http.response.text import TextResponse\n",
        "\n",
        "response = TextResponse(url='https://www.datacamp.com/courses/all', encoding='utf-8')"
      ],
      "metadata": {
        "id": "y-KMttrt3Mys"
      },
      "execution_count": null,
      "outputs": []
    },
    {
      "cell_type": "code",
      "source": [
        "# GEt the URL to the website loaded in response\n",
        "this_url = response.url\n",
        "\n",
        "# Get the title or the website loaded in response\n",
        "this_title = response.xpath('//title/text()').extract_first()\n",
        "\n",
        "# Print out our findings\n",
        "print_url_title(this_url, this_title)"
      ],
      "metadata": {
        "id": "Mvt87o633RnV",
        "outputId": "9eba44bd-7d61-4a69-fb30-26f54d4d8592",
        "colab": {
          "base_uri": "https://localhost:8080/",
          "height": 235
        }
      },
      "execution_count": 9,
      "outputs": [
        {
          "output_type": "error",
          "ename": "NameError",
          "evalue": "ignored",
          "traceback": [
            "\u001b[0;31m---------------------------------------------------------------------------\u001b[0m",
            "\u001b[0;31mNameError\u001b[0m                                 Traceback (most recent call last)",
            "\u001b[0;32m<ipython-input-9-07df5b9e03aa>\u001b[0m in \u001b[0;36m<cell line: 2>\u001b[0;34m()\u001b[0m\n\u001b[1;32m      1\u001b[0m \u001b[0;31m# GEt the URL to the website loaded in response\u001b[0m\u001b[0;34m\u001b[0m\u001b[0;34m\u001b[0m\u001b[0m\n\u001b[0;32m----> 2\u001b[0;31m \u001b[0mthis_url\u001b[0m \u001b[0;34m=\u001b[0m \u001b[0mresponse\u001b[0m\u001b[0;34m.\u001b[0m\u001b[0murl\u001b[0m\u001b[0;34m\u001b[0m\u001b[0;34m\u001b[0m\u001b[0m\n\u001b[0m\u001b[1;32m      3\u001b[0m \u001b[0;34m\u001b[0m\u001b[0m\n\u001b[1;32m      4\u001b[0m \u001b[0;31m# Get the title or the website loaded in response\u001b[0m\u001b[0;34m\u001b[0m\u001b[0;34m\u001b[0m\u001b[0m\n\u001b[1;32m      5\u001b[0m \u001b[0mthis_title\u001b[0m \u001b[0;34m=\u001b[0m \u001b[0mresponse\u001b[0m\u001b[0;34m.\u001b[0m\u001b[0mxpath\u001b[0m\u001b[0;34m(\u001b[0m\u001b[0;34m'//title/text()'\u001b[0m\u001b[0;34m)\u001b[0m\u001b[0;34m.\u001b[0m\u001b[0mextract_first\u001b[0m\u001b[0;34m(\u001b[0m\u001b[0;34m)\u001b[0m\u001b[0;34m\u001b[0m\u001b[0;34m\u001b[0m\u001b[0m\n",
            "\u001b[0;31mNameError\u001b[0m: name 'response' is not defined"
          ]
        }
      ]
    }
  ],
  "metadata": {
    "colab": {
      "name": "Selamat Datang di Colaboratory",
      "provenance": [],
      "include_colab_link": true
    },
    "kernelspec": {
      "display_name": "Python 3",
      "name": "python3"
    }
  },
  "nbformat": 4,
  "nbformat_minor": 0
}