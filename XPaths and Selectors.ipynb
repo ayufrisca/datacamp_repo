{
  "cells": [
    {
      "cell_type": "markdown",
      "metadata": {
        "id": "view-in-github",
        "colab_type": "text"
      },
      "source": [
        "<a href=\"https://colab.research.google.com/github/ayufrisca/datacamp_repo/blob/master/XPaths%20and%20Selectors.ipynb\" target=\"_parent\"><img src=\"https://colab.research.google.com/assets/colab-badge.svg\" alt=\"Open In Colab\"/></a>"
      ]
    },
    {
      "cell_type": "code",
      "source": [
        "from scrapy import Selector"
      ],
      "metadata": {
        "id": "ecKPjpNv77hq"
      },
      "execution_count": 45,
      "outputs": []
    },
    {
      "cell_type": "code",
      "source": [
        "html = '''\n",
        "<html>\n",
        "    <body>\n",
        "        <div>HELLO</div>\n",
        "        <div>\n",
        "            <p>GOODBYE</p>\n",
        "        </div>\n",
        "        <div>\n",
        "            <span>\n",
        "                <p>NOPE</p>\n",
        "                <p>ALMOST</p>\n",
        "                <p>YOU GOT IT!</p>\n",
        "            </span>\n",
        "        </div>\n",
        "    </body>\n",
        "</html>\n",
        "'''\n",
        "\n",
        "sel = Selector(text=html)"
      ],
      "metadata": {
        "id": "fAr1jPSR78iF"
      },
      "execution_count": 46,
      "outputs": []
    },
    {
      "cell_type": "code",
      "source": [
        "# Chain together xpath methods to select desired p element\n",
        "sel.xpath('//div').xpath('./span/p[3]')"
      ],
      "metadata": {
        "colab": {
          "base_uri": "https://localhost:8080/"
        },
        "id": "v68eFCSz8DMH",
        "outputId": "e49eefd6-f4f7-4d8b-df83-60add7206020"
      },
      "execution_count": 47,
      "outputs": [
        {
          "output_type": "execute_result",
          "data": {
            "text/plain": [
              "[<Selector query='./span/p[3]' data='<p>YOU GOT IT!</p>'>]"
            ]
          },
          "metadata": {},
          "execution_count": 47
        }
      ]
    },
    {
      "cell_type": "code",
      "source": [
        "html = '''\n",
        "<html>\n",
        "    <body>\n",
        "        <div>Div 1: <p>paragraph 1</p></div>\n",
        "        <div>Div 2: <p>paragraph 2</p> <p>paragraph 3</p> </div>\n",
        "        <div>Div 3: <p>paragraph 4</p> <p>paragraph 5</p> <p>paragraph 6</p></div>\n",
        "        <div>Div 4: <p>paragraph 7</p></div>\n",
        "        <div>Div 5: <p>paragraph 8</p></div>\n",
        "    </body>\n",
        "</html>\n",
        "'''"
      ],
      "metadata": {
        "id": "6pKC9fpP8HZj"
      },
      "execution_count": 48,
      "outputs": []
    },
    {
      "cell_type": "code",
      "source": [
        "# Create a Selector selecting html as the HTML document\n",
        "sel = Selector(text=html)\n",
        "\n",
        "# Create a SelectorList of all div elements in the HTML document\n",
        "divs = sel.xpath('//div')\n",
        "divs"
      ],
      "metadata": {
        "colab": {
          "base_uri": "https://localhost:8080/"
        },
        "id": "c8NWeCRc8MST",
        "outputId": "3b25a4b0-0aa2-4a7a-ec75-1faba32f30fc"
      },
      "execution_count": 49,
      "outputs": [
        {
          "output_type": "execute_result",
          "data": {
            "text/plain": [
              "[<Selector query='//div' data='<div>Div 1: <p>paragraph 1</p></div>'>,\n",
              " <Selector query='//div' data='<div>Div 2: <p>paragraph 2</p> <p>par...'>,\n",
              " <Selector query='//div' data='<div>Div 3: <p>paragraph 4</p> <p>par...'>,\n",
              " <Selector query='//div' data='<div>Div 4: <p>paragraph 7</p></div>'>,\n",
              " <Selector query='//div' data='<div>Div 5: <p>paragraph 8</p></div>'>]"
            ]
          },
          "metadata": {},
          "execution_count": 49
        }
      ]
    },
    {
      "cell_type": "code",
      "source": [
        "import requests\n",
        "\n",
        "url = 'https://assets.datacamp.com/production/repositories/2560/datasets/19a0a26daa8d9db1d920b5d5607c19d6d8094b3b/all_short'\n",
        "\n",
        "# Create the string html containing the HTML source\n",
        "html = requests.get(url).content\n",
        "\n",
        "# Create the Selector object sel from html\n",
        "sel = Selector(text=html)\n",
        "\n",
        "# Print out the number of elements in the HTML document\n",
        "print(\"There are 1020 elements in the HTML document.\")\n",
        "print(\"You have found: \", len(sel.xpath('//*')))"
      ],
      "metadata": {
        "colab": {
          "base_uri": "https://localhost:8080/"
        },
        "id": "Acho0wpy8PvH",
        "outputId": "265f27aa-09f2-4723-8081-603dc5b556ac"
      },
      "execution_count": 50,
      "outputs": [
        {
          "output_type": "stream",
          "name": "stdout",
          "text": [
            "There are 1020 elements in the HTML document.\n",
            "You have found:  1020\n"
          ]
        }
      ]
    }
  ],
  "metadata": {
    "colab": {
      "name": "Selamat Datang di Colaboratory",
      "provenance": [],
      "include_colab_link": true
    },
    "kernelspec": {
      "display_name": "Python 3",
      "name": "python3"
    }
  },
  "nbformat": 4,
  "nbformat_minor": 0
}